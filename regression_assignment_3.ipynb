{
  "nbformat": 4,
  "nbformat_minor": 0,
  "metadata": {
    "colab": {
      "name": "regression_assignment_3.ipynb",
      "provenance": [],
      "collapsed_sections": []
    },
    "kernelspec": {
      "name": "python3",
      "display_name": "Python 3"
    }
  },
  "cells": [
    {
      "cell_type": "markdown",
      "metadata": {
        "id": "FsQJSoT98U8Q"
      },
      "source": [
        "## **Bike Sharing Dataset**"
      ]
    },
    {
      "cell_type": "markdown",
      "metadata": {
        "id": "kCzmmQyVM20D"
      },
      "source": [
        "**Problem Statement**\n",
        "\n",
        "Can you predict count (demand of bikes) based on seasonal and environmental changes?"
      ]
    },
    {
      "cell_type": "code",
      "metadata": {
        "id": "O4QRs3hNKLqK"
      },
      "source": [
        "#import libraries\n",
        "\n",
        "import os\n",
        "import pandas as pd\n",
        "import numpy as np\n",
        "\n",
        "#for visualization\n",
        "import matplotlib.pyplot as plt\n",
        "import seaborn as sns\n",
        "\n",
        "#for model building\n",
        "import sklearn\n",
        "from sklearn.linear_model import LinearRegression\n",
        "from sklearn.preprocessing import PolynomialFeatures\n",
        "from sklearn.linear_model import Lasso, Ridge\n",
        "from sklearn.svm import SVR\n",
        "from prettytable import PrettyTable\n",
        "\n",
        "#for model evaluation\n",
        "from sklearn import metrics\n",
        "from sklearn.metrics import mean_absolute_error, mean_squared_error, r2_score\n",
        "from sklearn import preprocessing\n",
        "from sklearn.model_selection import train_test_split\n",
        "\n",
        "from scipy import stats\n",
        "\n",
        "#for cross validation\n",
        "from sklearn.model_selection import cross_val_predict\n",
        "from sklearn.model_selection import cross_val_score\n",
        "from sklearn.model_selection import cross_validate"
      ],
      "execution_count": null,
      "outputs": []
    },
    {
      "cell_type": "code",
      "metadata": {
        "id": "u-npLxiRKcXC",
        "outputId": "6783f82e-cb87-4d1f-cd7e-1726ff829452",
        "colab": {
          "base_uri": "https://localhost:8080/",
          "height": 200
        }
      },
      "source": [
        "#import data\n",
        "\n",
        "df = pd.read_csv('day.csv')\n",
        "df.head()"
      ],
      "execution_count": null,
      "outputs": [
        {
          "output_type": "execute_result",
          "data": {
            "text/html": [
              "<div>\n",
              "<style scoped>\n",
              "    .dataframe tbody tr th:only-of-type {\n",
              "        vertical-align: middle;\n",
              "    }\n",
              "\n",
              "    .dataframe tbody tr th {\n",
              "        vertical-align: top;\n",
              "    }\n",
              "\n",
              "    .dataframe thead th {\n",
              "        text-align: right;\n",
              "    }\n",
              "</style>\n",
              "<table border=\"1\" class=\"dataframe\">\n",
              "  <thead>\n",
              "    <tr style=\"text-align: right;\">\n",
              "      <th></th>\n",
              "      <th>instant</th>\n",
              "      <th>dteday</th>\n",
              "      <th>season</th>\n",
              "      <th>yr</th>\n",
              "      <th>mnth</th>\n",
              "      <th>holiday</th>\n",
              "      <th>weekday</th>\n",
              "      <th>workingday</th>\n",
              "      <th>weathersit</th>\n",
              "      <th>temp</th>\n",
              "      <th>atemp</th>\n",
              "      <th>hum</th>\n",
              "      <th>windspeed</th>\n",
              "      <th>casual</th>\n",
              "      <th>registered</th>\n",
              "      <th>cnt</th>\n",
              "    </tr>\n",
              "  </thead>\n",
              "  <tbody>\n",
              "    <tr>\n",
              "      <th>0</th>\n",
              "      <td>1</td>\n",
              "      <td>2011-01-01</td>\n",
              "      <td>1</td>\n",
              "      <td>0</td>\n",
              "      <td>1</td>\n",
              "      <td>0</td>\n",
              "      <td>6</td>\n",
              "      <td>0</td>\n",
              "      <td>2</td>\n",
              "      <td>0.344167</td>\n",
              "      <td>0.363625</td>\n",
              "      <td>0.805833</td>\n",
              "      <td>0.160446</td>\n",
              "      <td>331</td>\n",
              "      <td>654</td>\n",
              "      <td>985</td>\n",
              "    </tr>\n",
              "    <tr>\n",
              "      <th>1</th>\n",
              "      <td>2</td>\n",
              "      <td>2011-01-02</td>\n",
              "      <td>1</td>\n",
              "      <td>0</td>\n",
              "      <td>1</td>\n",
              "      <td>0</td>\n",
              "      <td>0</td>\n",
              "      <td>0</td>\n",
              "      <td>2</td>\n",
              "      <td>0.363478</td>\n",
              "      <td>0.353739</td>\n",
              "      <td>0.696087</td>\n",
              "      <td>0.248539</td>\n",
              "      <td>131</td>\n",
              "      <td>670</td>\n",
              "      <td>801</td>\n",
              "    </tr>\n",
              "    <tr>\n",
              "      <th>2</th>\n",
              "      <td>3</td>\n",
              "      <td>2011-01-03</td>\n",
              "      <td>1</td>\n",
              "      <td>0</td>\n",
              "      <td>1</td>\n",
              "      <td>0</td>\n",
              "      <td>1</td>\n",
              "      <td>1</td>\n",
              "      <td>1</td>\n",
              "      <td>0.196364</td>\n",
              "      <td>0.189405</td>\n",
              "      <td>0.437273</td>\n",
              "      <td>0.248309</td>\n",
              "      <td>120</td>\n",
              "      <td>1229</td>\n",
              "      <td>1349</td>\n",
              "    </tr>\n",
              "    <tr>\n",
              "      <th>3</th>\n",
              "      <td>4</td>\n",
              "      <td>2011-01-04</td>\n",
              "      <td>1</td>\n",
              "      <td>0</td>\n",
              "      <td>1</td>\n",
              "      <td>0</td>\n",
              "      <td>2</td>\n",
              "      <td>1</td>\n",
              "      <td>1</td>\n",
              "      <td>0.200000</td>\n",
              "      <td>0.212122</td>\n",
              "      <td>0.590435</td>\n",
              "      <td>0.160296</td>\n",
              "      <td>108</td>\n",
              "      <td>1454</td>\n",
              "      <td>1562</td>\n",
              "    </tr>\n",
              "    <tr>\n",
              "      <th>4</th>\n",
              "      <td>5</td>\n",
              "      <td>2011-01-05</td>\n",
              "      <td>1</td>\n",
              "      <td>0</td>\n",
              "      <td>1</td>\n",
              "      <td>0</td>\n",
              "      <td>3</td>\n",
              "      <td>1</td>\n",
              "      <td>1</td>\n",
              "      <td>0.226957</td>\n",
              "      <td>0.229270</td>\n",
              "      <td>0.436957</td>\n",
              "      <td>0.186900</td>\n",
              "      <td>82</td>\n",
              "      <td>1518</td>\n",
              "      <td>1600</td>\n",
              "    </tr>\n",
              "  </tbody>\n",
              "</table>\n",
              "</div>"
            ],
            "text/plain": [
              "   instant      dteday  season  yr  ...  windspeed  casual  registered   cnt\n",
              "0        1  2011-01-01       1   0  ...   0.160446     331         654   985\n",
              "1        2  2011-01-02       1   0  ...   0.248539     131         670   801\n",
              "2        3  2011-01-03       1   0  ...   0.248309     120        1229  1349\n",
              "3        4  2011-01-04       1   0  ...   0.160296     108        1454  1562\n",
              "4        5  2011-01-05       1   0  ...   0.186900      82        1518  1600\n",
              "\n",
              "[5 rows x 16 columns]"
            ]
          },
          "metadata": {
            "tags": []
          },
          "execution_count": 306
        }
      ]
    },
    {
      "cell_type": "code",
      "metadata": {
        "id": "Y678qs5_KhdN",
        "outputId": "e6e55875-d3f5-461f-d632-55ad95f4f185",
        "colab": {
          "base_uri": "https://localhost:8080/",
          "height": 758
        }
      },
      "source": [
        "#check shape and properties of data and check for null values\n",
        "\n",
        "df.shape\n",
        "df.info()\n",
        "df.isnull().sum().sort_values(ascending=True)"
      ],
      "execution_count": null,
      "outputs": [
        {
          "output_type": "stream",
          "text": [
            "<class 'pandas.core.frame.DataFrame'>\n",
            "RangeIndex: 731 entries, 0 to 730\n",
            "Data columns (total 16 columns):\n",
            " #   Column      Non-Null Count  Dtype  \n",
            "---  ------      --------------  -----  \n",
            " 0   instant     731 non-null    int64  \n",
            " 1   dteday      731 non-null    object \n",
            " 2   season      731 non-null    int64  \n",
            " 3   yr          731 non-null    int64  \n",
            " 4   mnth        731 non-null    int64  \n",
            " 5   holiday     731 non-null    int64  \n",
            " 6   weekday     731 non-null    int64  \n",
            " 7   workingday  731 non-null    int64  \n",
            " 8   weathersit  731 non-null    int64  \n",
            " 9   temp        731 non-null    float64\n",
            " 10  atemp       731 non-null    float64\n",
            " 11  hum         731 non-null    float64\n",
            " 12  windspeed   731 non-null    float64\n",
            " 13  casual      731 non-null    int64  \n",
            " 14  registered  731 non-null    int64  \n",
            " 15  cnt         731 non-null    int64  \n",
            "dtypes: float64(4), int64(11), object(1)\n",
            "memory usage: 91.5+ KB\n"
          ],
          "name": "stdout"
        },
        {
          "output_type": "execute_result",
          "data": {
            "text/plain": [
              "instant       0\n",
              "dteday        0\n",
              "season        0\n",
              "yr            0\n",
              "mnth          0\n",
              "holiday       0\n",
              "weekday       0\n",
              "workingday    0\n",
              "weathersit    0\n",
              "temp          0\n",
              "atemp         0\n",
              "hum           0\n",
              "windspeed     0\n",
              "casual        0\n",
              "registered    0\n",
              "cnt           0\n",
              "dtype: int64"
            ]
          },
          "metadata": {
            "tags": []
          },
          "execution_count": 307
        }
      ]
    },
    {
      "cell_type": "code",
      "metadata": {
        "id": "wZtbig5CKn45",
        "outputId": "950015f2-0ec4-44ee-e0b8-98cc39248d17",
        "colab": {
          "base_uri": "https://localhost:8080/",
          "height": 411
        }
      },
      "source": [
        "#feature extraction\n",
        "\n",
        "#extracting date from dteday\n",
        "df['dteday'] = pd.to_datetime(df['dteday'])\n",
        "df['date'] = df['dteday'].dt.day\n",
        "df = df.drop(columns=['dteday', 'instant'])\n",
        "df"
      ],
      "execution_count": null,
      "outputs": [
        {
          "output_type": "execute_result",
          "data": {
            "text/html": [
              "<div>\n",
              "<style scoped>\n",
              "    .dataframe tbody tr th:only-of-type {\n",
              "        vertical-align: middle;\n",
              "    }\n",
              "\n",
              "    .dataframe tbody tr th {\n",
              "        vertical-align: top;\n",
              "    }\n",
              "\n",
              "    .dataframe thead th {\n",
              "        text-align: right;\n",
              "    }\n",
              "</style>\n",
              "<table border=\"1\" class=\"dataframe\">\n",
              "  <thead>\n",
              "    <tr style=\"text-align: right;\">\n",
              "      <th></th>\n",
              "      <th>season</th>\n",
              "      <th>yr</th>\n",
              "      <th>mnth</th>\n",
              "      <th>holiday</th>\n",
              "      <th>weekday</th>\n",
              "      <th>workingday</th>\n",
              "      <th>weathersit</th>\n",
              "      <th>temp</th>\n",
              "      <th>atemp</th>\n",
              "      <th>hum</th>\n",
              "      <th>windspeed</th>\n",
              "      <th>casual</th>\n",
              "      <th>registered</th>\n",
              "      <th>cnt</th>\n",
              "      <th>date</th>\n",
              "    </tr>\n",
              "  </thead>\n",
              "  <tbody>\n",
              "    <tr>\n",
              "      <th>0</th>\n",
              "      <td>1</td>\n",
              "      <td>0</td>\n",
              "      <td>1</td>\n",
              "      <td>0</td>\n",
              "      <td>6</td>\n",
              "      <td>0</td>\n",
              "      <td>2</td>\n",
              "      <td>0.344167</td>\n",
              "      <td>0.363625</td>\n",
              "      <td>0.805833</td>\n",
              "      <td>0.160446</td>\n",
              "      <td>331</td>\n",
              "      <td>654</td>\n",
              "      <td>985</td>\n",
              "      <td>1</td>\n",
              "    </tr>\n",
              "    <tr>\n",
              "      <th>1</th>\n",
              "      <td>1</td>\n",
              "      <td>0</td>\n",
              "      <td>1</td>\n",
              "      <td>0</td>\n",
              "      <td>0</td>\n",
              "      <td>0</td>\n",
              "      <td>2</td>\n",
              "      <td>0.363478</td>\n",
              "      <td>0.353739</td>\n",
              "      <td>0.696087</td>\n",
              "      <td>0.248539</td>\n",
              "      <td>131</td>\n",
              "      <td>670</td>\n",
              "      <td>801</td>\n",
              "      <td>2</td>\n",
              "    </tr>\n",
              "    <tr>\n",
              "      <th>2</th>\n",
              "      <td>1</td>\n",
              "      <td>0</td>\n",
              "      <td>1</td>\n",
              "      <td>0</td>\n",
              "      <td>1</td>\n",
              "      <td>1</td>\n",
              "      <td>1</td>\n",
              "      <td>0.196364</td>\n",
              "      <td>0.189405</td>\n",
              "      <td>0.437273</td>\n",
              "      <td>0.248309</td>\n",
              "      <td>120</td>\n",
              "      <td>1229</td>\n",
              "      <td>1349</td>\n",
              "      <td>3</td>\n",
              "    </tr>\n",
              "    <tr>\n",
              "      <th>3</th>\n",
              "      <td>1</td>\n",
              "      <td>0</td>\n",
              "      <td>1</td>\n",
              "      <td>0</td>\n",
              "      <td>2</td>\n",
              "      <td>1</td>\n",
              "      <td>1</td>\n",
              "      <td>0.200000</td>\n",
              "      <td>0.212122</td>\n",
              "      <td>0.590435</td>\n",
              "      <td>0.160296</td>\n",
              "      <td>108</td>\n",
              "      <td>1454</td>\n",
              "      <td>1562</td>\n",
              "      <td>4</td>\n",
              "    </tr>\n",
              "    <tr>\n",
              "      <th>4</th>\n",
              "      <td>1</td>\n",
              "      <td>0</td>\n",
              "      <td>1</td>\n",
              "      <td>0</td>\n",
              "      <td>3</td>\n",
              "      <td>1</td>\n",
              "      <td>1</td>\n",
              "      <td>0.226957</td>\n",
              "      <td>0.229270</td>\n",
              "      <td>0.436957</td>\n",
              "      <td>0.186900</td>\n",
              "      <td>82</td>\n",
              "      <td>1518</td>\n",
              "      <td>1600</td>\n",
              "      <td>5</td>\n",
              "    </tr>\n",
              "    <tr>\n",
              "      <th>...</th>\n",
              "      <td>...</td>\n",
              "      <td>...</td>\n",
              "      <td>...</td>\n",
              "      <td>...</td>\n",
              "      <td>...</td>\n",
              "      <td>...</td>\n",
              "      <td>...</td>\n",
              "      <td>...</td>\n",
              "      <td>...</td>\n",
              "      <td>...</td>\n",
              "      <td>...</td>\n",
              "      <td>...</td>\n",
              "      <td>...</td>\n",
              "      <td>...</td>\n",
              "      <td>...</td>\n",
              "    </tr>\n",
              "    <tr>\n",
              "      <th>726</th>\n",
              "      <td>1</td>\n",
              "      <td>1</td>\n",
              "      <td>12</td>\n",
              "      <td>0</td>\n",
              "      <td>4</td>\n",
              "      <td>1</td>\n",
              "      <td>2</td>\n",
              "      <td>0.254167</td>\n",
              "      <td>0.226642</td>\n",
              "      <td>0.652917</td>\n",
              "      <td>0.350133</td>\n",
              "      <td>247</td>\n",
              "      <td>1867</td>\n",
              "      <td>2114</td>\n",
              "      <td>27</td>\n",
              "    </tr>\n",
              "    <tr>\n",
              "      <th>727</th>\n",
              "      <td>1</td>\n",
              "      <td>1</td>\n",
              "      <td>12</td>\n",
              "      <td>0</td>\n",
              "      <td>5</td>\n",
              "      <td>1</td>\n",
              "      <td>2</td>\n",
              "      <td>0.253333</td>\n",
              "      <td>0.255046</td>\n",
              "      <td>0.590000</td>\n",
              "      <td>0.155471</td>\n",
              "      <td>644</td>\n",
              "      <td>2451</td>\n",
              "      <td>3095</td>\n",
              "      <td>28</td>\n",
              "    </tr>\n",
              "    <tr>\n",
              "      <th>728</th>\n",
              "      <td>1</td>\n",
              "      <td>1</td>\n",
              "      <td>12</td>\n",
              "      <td>0</td>\n",
              "      <td>6</td>\n",
              "      <td>0</td>\n",
              "      <td>2</td>\n",
              "      <td>0.253333</td>\n",
              "      <td>0.242400</td>\n",
              "      <td>0.752917</td>\n",
              "      <td>0.124383</td>\n",
              "      <td>159</td>\n",
              "      <td>1182</td>\n",
              "      <td>1341</td>\n",
              "      <td>29</td>\n",
              "    </tr>\n",
              "    <tr>\n",
              "      <th>729</th>\n",
              "      <td>1</td>\n",
              "      <td>1</td>\n",
              "      <td>12</td>\n",
              "      <td>0</td>\n",
              "      <td>0</td>\n",
              "      <td>0</td>\n",
              "      <td>1</td>\n",
              "      <td>0.255833</td>\n",
              "      <td>0.231700</td>\n",
              "      <td>0.483333</td>\n",
              "      <td>0.350754</td>\n",
              "      <td>364</td>\n",
              "      <td>1432</td>\n",
              "      <td>1796</td>\n",
              "      <td>30</td>\n",
              "    </tr>\n",
              "    <tr>\n",
              "      <th>730</th>\n",
              "      <td>1</td>\n",
              "      <td>1</td>\n",
              "      <td>12</td>\n",
              "      <td>0</td>\n",
              "      <td>1</td>\n",
              "      <td>1</td>\n",
              "      <td>2</td>\n",
              "      <td>0.215833</td>\n",
              "      <td>0.223487</td>\n",
              "      <td>0.577500</td>\n",
              "      <td>0.154846</td>\n",
              "      <td>439</td>\n",
              "      <td>2290</td>\n",
              "      <td>2729</td>\n",
              "      <td>31</td>\n",
              "    </tr>\n",
              "  </tbody>\n",
              "</table>\n",
              "<p>731 rows × 15 columns</p>\n",
              "</div>"
            ],
            "text/plain": [
              "     season  yr  mnth  holiday  ...  casual  registered   cnt  date\n",
              "0         1   0     1        0  ...     331         654   985     1\n",
              "1         1   0     1        0  ...     131         670   801     2\n",
              "2         1   0     1        0  ...     120        1229  1349     3\n",
              "3         1   0     1        0  ...     108        1454  1562     4\n",
              "4         1   0     1        0  ...      82        1518  1600     5\n",
              "..      ...  ..   ...      ...  ...     ...         ...   ...   ...\n",
              "726       1   1    12        0  ...     247        1867  2114    27\n",
              "727       1   1    12        0  ...     644        2451  3095    28\n",
              "728       1   1    12        0  ...     159        1182  1341    29\n",
              "729       1   1    12        0  ...     364        1432  1796    30\n",
              "730       1   1    12        0  ...     439        2290  2729    31\n",
              "\n",
              "[731 rows x 15 columns]"
            ]
          },
          "metadata": {
            "tags": []
          },
          "execution_count": 308
        }
      ]
    },
    {
      "cell_type": "code",
      "metadata": {
        "id": "DtUP4QWiKq5C"
      },
      "source": [
        "#rename titles\n",
        "df.rename(columns={'weathersit':'weather_condition',\n",
        "                    'hum':'humidity',\n",
        "                    'mnth':'month',\n",
        "                    'cnt':'count',\n",
        "                    'hr':'hour',\n",
        "                    'yr':'year',\n",
        "                    'atemp':'apparent_temp'},inplace=True)\n"
      ],
      "execution_count": null,
      "outputs": []
    },
    {
      "cell_type": "code",
      "metadata": {
        "id": "KqjA7YbNKwXv",
        "outputId": "7be80915-6def-4654-eb2a-5d95e5cc97f4",
        "colab": {
          "base_uri": "https://localhost:8080/",
          "height": 424
        }
      },
      "source": [
        "#convert season, year, month, holiday, weekday, workingday, weather_condition, date to categories\n",
        "\n",
        "categoryFeatureList = ['season', 'year', 'month', 'holiday', \n",
        "                       'weekday', 'workingday', 'weather_condition', 'date']\n",
        "\n",
        "for var in categoryFeatureList:\n",
        "  df[var] = df[var].astype(\"category\")\n",
        "\n",
        "df.info()"
      ],
      "execution_count": null,
      "outputs": [
        {
          "output_type": "stream",
          "text": [
            "<class 'pandas.core.frame.DataFrame'>\n",
            "RangeIndex: 731 entries, 0 to 730\n",
            "Data columns (total 15 columns):\n",
            " #   Column             Non-Null Count  Dtype   \n",
            "---  ------             --------------  -----   \n",
            " 0   season             731 non-null    category\n",
            " 1   year               731 non-null    category\n",
            " 2   month              731 non-null    category\n",
            " 3   holiday            731 non-null    category\n",
            " 4   weekday            731 non-null    category\n",
            " 5   workingday         731 non-null    category\n",
            " 6   weather_condition  731 non-null    category\n",
            " 7   temp               731 non-null    float64 \n",
            " 8   apparent_temp      731 non-null    float64 \n",
            " 9   humidity           731 non-null    float64 \n",
            " 10  windspeed          731 non-null    float64 \n",
            " 11  casual             731 non-null    int64   \n",
            " 12  registered         731 non-null    int64   \n",
            " 13  count              731 non-null    int64   \n",
            " 14  date               731 non-null    category\n",
            "dtypes: category(8), float64(4), int64(3)\n",
            "memory usage: 48.6 KB\n"
          ],
          "name": "stdout"
        }
      ]
    },
    {
      "cell_type": "code",
      "metadata": {
        "id": "oGRyOoq_LIZx"
      },
      "source": [
        "#Feature selection\n",
        "df_copy = df\n",
        "df_copy = df_copy.drop(columns = ['year', 'month', 'casual', 'registered', 'date', 'holiday', 'weekday', 'workingday', 'temp'])\n"
      ],
      "execution_count": null,
      "outputs": []
    },
    {
      "cell_type": "code",
      "metadata": {
        "id": "r0F0KHWQLKbN",
        "outputId": "e2ef047d-e6c3-4341-996a-0f6549d98227",
        "colab": {
          "base_uri": "https://localhost:8080/",
          "height": 276
        }
      },
      "source": [
        "#defining x and y\n",
        "\n",
        "x = df_copy.drop(['count', 'season', 'weather_condition'], axis=1)  \n",
        "y = df_copy['count']\n",
        "\n",
        "print(x)"
      ],
      "execution_count": null,
      "outputs": [
        {
          "output_type": "stream",
          "text": [
            "     apparent_temp  humidity  windspeed\n",
            "0         0.363625  0.805833   0.160446\n",
            "1         0.353739  0.696087   0.248539\n",
            "2         0.189405  0.437273   0.248309\n",
            "3         0.212122  0.590435   0.160296\n",
            "4         0.229270  0.436957   0.186900\n",
            "..             ...       ...        ...\n",
            "726       0.226642  0.652917   0.350133\n",
            "727       0.255046  0.590000   0.155471\n",
            "728       0.242400  0.752917   0.124383\n",
            "729       0.231700  0.483333   0.350754\n",
            "730       0.223487  0.577500   0.154846\n",
            "\n",
            "[731 rows x 3 columns]\n"
          ],
          "name": "stdout"
        }
      ]
    },
    {
      "cell_type": "code",
      "metadata": {
        "id": "YpuEFTwALV9P",
        "outputId": "549f47ed-1f3c-463b-a944-47bfd7fbdf11",
        "colab": {
          "base_uri": "https://localhost:8080/",
          "height": 276
        }
      },
      "source": [
        "#splitting dataset\n",
        "\n",
        "x_train, x_test, y_train, y_test = train_test_split(x, y, test_size = 0.3, \n",
        "                                                    random_state = 10)\n",
        "print(x_train)"
      ],
      "execution_count": null,
      "outputs": [
        {
          "output_type": "stream",
          "text": [
            "     apparent_temp  humidity  windspeed\n",
            "72        0.332000  0.496957   0.136926\n",
            "510       0.627529  0.747083   0.140550\n",
            "701       0.359208  0.823333   0.124379\n",
            "264       0.554963  0.902083   0.128125\n",
            "577       0.662896  0.704167   0.165425\n",
            "..             ...       ...        ...\n",
            "369       0.278412  0.524167   0.129987\n",
            "320       0.323221  0.575833   0.305362\n",
            "527       0.659721  0.587917   0.207713\n",
            "125       0.474117  0.590000   0.228246\n",
            "265       0.522125  0.972500   0.078367\n",
            "\n",
            "[511 rows x 3 columns]\n"
          ],
          "name": "stdout"
        }
      ]
    },
    {
      "cell_type": "code",
      "metadata": {
        "id": "8H-Fft9WLWmq",
        "outputId": "6584d359-6c1b-48fd-f37e-aa9f2a4c0d88",
        "colab": {
          "base_uri": "https://localhost:8080/",
          "height": 322
        }
      },
      "source": [
        "#Multiple Linear Regression\n",
        "linearRegressor = LinearRegression()\n",
        "linearRegressor.fit(x_train, y_train)\n",
        "y_predicted = linearRegressor.predict(x_test)\n",
        "\n",
        "mse = mean_squared_error(y_test, y_predicted)\n",
        "r = r2_score(y_test, y_predicted)\n",
        "mae = mean_absolute_error(y_test, y_predicted)\n",
        "\n",
        "\n",
        "print(\"Mean Squared Error: \", mse)\n",
        "print(\"R score: \", r)\n",
        "print(\"Mean Absolute Error: \", mae)\n",
        "\n",
        "x1 = min(y_test)\n",
        "x2 = max(y_test)\n",
        "y1 = min(y_predicted)\n",
        "y2 = max(y_predicted)\n",
        "\n",
        "plt.scatter(y_test, y_predicted)\n",
        "plt.show()"
      ],
      "execution_count": null,
      "outputs": [
        {
          "output_type": "stream",
          "text": [
            "Mean Squared Error:  2029118.6964330873\n",
            "R score:  0.4624394942060247\n",
            "Mean Absolute Error:  1126.202279975699\n"
          ],
          "name": "stdout"
        },
        {
          "output_type": "display_data",
          "data": {
            "image/png": "[encoded data removed]",
            "text/plain": [
              "<Figure size 432x288 with 1 Axes>"
            ]
          },
          "metadata": {
            "tags": [],
            "needs_background": "light"
          }
        }
      ]
    },
    {
      "cell_type": "code",
      "metadata": {
        "id": "tV8chfi4rK-a",
        "outputId": "5dfb3fc6-91f8-46f8-d347-c6bfbb8c5ba1",
        "colab": {
          "base_uri": "https://localhost:8080/",
          "height": 72
        }
      },
      "source": [
        "#Polynomial Regression\n",
        "polynomial_features = PolynomialFeatures(degree=4)\n",
        "\n",
        "x_poly = polynomial_features.fit_transform(x_train)\n",
        "x_poly_test = polynomial_features.fit_transform(x_test)\n",
        "\n",
        "model = LinearRegression()\n",
        "model.fit(x_poly, y_train)\n",
        "\n",
        "y_predicted_poly = model.predict(x_poly_test)\n",
        "\n",
        "poly_mse= mean_squared_error(y_test, y_predicted_poly)\n",
        "poly_r = r2_score(y_test, y_predicted_poly)\n",
        "poly_mae = mean_absolute_error(y_test, y_predicted_poly)\n",
        "\n",
        "print(\"Mean Squared Error: \", poly_mse)\n",
        "print(\"R score: \", poly_r)\n",
        "print(\"Mean Absolute Error: \", poly_mae)\n",
        "\n"
      ],
      "execution_count": null,
      "outputs": [
        {
          "output_type": "stream",
          "text": [
            "Mean Squared Error:  11189979.286363637\n",
            "R score:  -1.9644845003773312\n",
            "Mean Absolute Error:  1637.2863636363636\n"
          ],
          "name": "stdout"
        }
      ]
    },
    {
      "cell_type": "code",
      "metadata": {
        "id": "qQXidyZtLaXj",
        "outputId": "bc14cc10-797d-49ef-cc09-3e9748194d03",
        "colab": {
          "base_uri": "https://localhost:8080/",
          "height": 202
        }
      },
      "source": [
        "#display all algorithms in a pretty table\n",
        "\n",
        "table = PrettyTable()\n",
        "\n",
        "table.field_names = [\"Model\", \"Mean Squared Error\", \"R_2 Score\", \"Mean Absolute Error\", \"AIC\", \"BIC\"]\n",
        "\n",
        "models = [\n",
        "          LinearRegression(),\n",
        "          SVR(kernel='rbf'),\n",
        "          SVR(kernel='linear'),\n",
        "          SVR(kernel='poly'),\n",
        "          Lasso(alpha=0.1),\n",
        "]\n",
        "\n",
        "for model in models:\n",
        "  model.fit(x_train, y_train)\n",
        "  y_res = model.predict(x_test)\n",
        "  mse = mean_squared_error(y_test, y_res)\n",
        "  score = r2_score(y_test, y_res)\n",
        "  mae = mean_absolute_error(y_test, y_res)\n",
        "  \n",
        "  table.add_row([type(model).__name__, format(mse, '.2f'),\n",
        "                 format(score, '.2f'), format(mae, '.2f'),\n",
        "                 format(aic, '.2f'), format(bic, '.2f')])\n",
        "  \n",
        "\n",
        "table.add_row([\"Polynomial Regression\", format(poly_mse, '.2f'),\n",
        "               format(poly_r, '.2f'), format(poly_mae, '.2f'),\n",
        "               format(aic, '.2f'), format(bic, '.2f')])\n",
        "  \n",
        "print(table)"
      ],
      "execution_count": null,
      "outputs": [
        {
          "output_type": "stream",
          "text": [
            "+-----------------------+--------------------+-----------+---------------------+----------+----------+\n",
            "|         Model         | Mean Squared Error | R_2 Score | Mean Absolute Error |   AIC    |   BIC    |\n",
            "+-----------------------+--------------------+-----------+---------------------+----------+----------+\n",
            "|    LinearRegression   |     2029118.70     |    0.46   |       1126.20       | 11018.36 | 11027.55 |\n",
            "|          SVR          |     3658990.44     |    0.03   |       1533.92       | 11018.36 | 11027.55 |\n",
            "|          SVR          |     3756775.39     |    0.00   |       1556.96       | 11018.36 | 11027.55 |\n",
            "|          SVR          |     2343715.93     |    0.38   |       1210.08       | 11018.36 | 11027.55 |\n",
            "|         Lasso         |     2029081.75     |    0.46   |       1126.25       | 11018.36 | 11027.55 |\n",
            "| Polynomial Regression |    11189979.29     |   -1.96   |       1637.29       | 11018.36 | 11027.55 |\n",
            "+-----------------------+--------------------+-----------+---------------------+----------+----------+\n"
          ],
          "name": "stdout"
        }
      ]
    },
    {
      "cell_type": "code",
      "metadata": {
        "id": "W2jNXJwoLcdf",
        "outputId": "2fc7c151-3654-4753-ac8f-d6b972485979",
        "colab": {
          "base_uri": "https://localhost:8080/",
          "height": 221
        }
      },
      "source": [
        "#Cross validation\n",
        "#display all algorithms in a pretty table\n",
        "\n",
        "table = PrettyTable()\n",
        "print(\"After Cross Validation:\")\n",
        "\n",
        "table.field_names = [\"Model\", \"Mean Squared Error\", \"R_2 Score\", \"Mean Absolute Error\"]\n",
        "\n",
        "models = [\n",
        "          LinearRegression(),\n",
        "          SVR(kernel='rbf'),\n",
        "          SVR(kernel='linear'),\n",
        "          SVR(kernel='poly'),\n",
        "          Lasso(alpha=0.1),\n",
        "]\n",
        "\n",
        "for model in models:\n",
        "  model.fit(x_train, y_train)\n",
        "  y_res = model.predict(x_test)\n",
        "  \n",
        "  reg_mse = cross_val_score(estimator=model, X=x, y=y, scoring='neg_mean_squared_error', cv=2)\n",
        "  score_mse = reg_mse.mean() * -1\n",
        "\n",
        "  reg_mae = cross_val_score(estimator=model, X=x, y=y, scoring='neg_mean_absolute_error', cv=2)\n",
        "  score_mae = reg_mae.mean() * -1\n",
        "\n",
        "  reg_r2 = cross_val_score(estimator=model, X=x, y=y, scoring='r2', cv=2)\n",
        "  score_r2 = reg_r2.mean()\n",
        "  \n",
        "  table.add_row([type(model).__name__, format(mse, '.2f'),\n",
        "                 format(score, '.2f'), format(mae, '.2f'),])\n",
        "  \n",
        "\n",
        "table.add_row([\"Polynomial Regression\", format(poly_mse, '.2f'),\n",
        "               format(poly_r, '.2f'), format(poly_mae, '.2f')])\n",
        "  \n",
        "print(table)"
      ],
      "execution_count": null,
      "outputs": [
        {
          "output_type": "stream",
          "text": [
            "After Cross Validation:\n",
            "+-----------------------+--------------------+-----------+---------------------+\n",
            "|         Model         | Mean Squared Error | R_2 Score | Mean Absolute Error |\n",
            "+-----------------------+--------------------+-----------+---------------------+\n",
            "|    LinearRegression   |     2029081.75     |    0.46   |       1126.25       |\n",
            "|          SVR          |     2029081.75     |    0.46   |       1126.25       |\n",
            "|          SVR          |     2029081.75     |    0.46   |       1126.25       |\n",
            "|          SVR          |     2029081.75     |    0.46   |       1126.25       |\n",
            "|         Lasso         |     2029081.75     |    0.46   |       1126.25       |\n",
            "| Polynomial Regression |    11189979.29     |   -1.96   |       1637.29       |\n",
            "+-----------------------+--------------------+-----------+---------------------+\n"
          ],
          "name": "stdout"
        }
      ]
    },
    {
      "cell_type": "code",
      "metadata": {
        "id": "d64zFRCsCB9Z",
        "outputId": "85b4949c-54bf-462c-e680-bf978409f8de",
        "colab": {
          "base_uri": "https://localhost:8080/",
          "height": 261
        }
      },
      "source": [
        "df.corr()"
      ],
      "execution_count": null,
      "outputs": [
        {
          "output_type": "execute_result",
          "data": {
            "text/html": [
              "<div>\n",
              "<style scoped>\n",
              "    .dataframe tbody tr th:only-of-type {\n",
              "        vertical-align: middle;\n",
              "    }\n",
              "\n",
              "    .dataframe tbody tr th {\n",
              "        vertical-align: top;\n",
              "    }\n",
              "\n",
              "    .dataframe thead th {\n",
              "        text-align: right;\n",
              "    }\n",
              "</style>\n",
              "<table border=\"1\" class=\"dataframe\">\n",
              "  <thead>\n",
              "    <tr style=\"text-align: right;\">\n",
              "      <th></th>\n",
              "      <th>temp</th>\n",
              "      <th>apparent_temp</th>\n",
              "      <th>humidity</th>\n",
              "      <th>windspeed</th>\n",
              "      <th>casual</th>\n",
              "      <th>registered</th>\n",
              "      <th>count</th>\n",
              "    </tr>\n",
              "  </thead>\n",
              "  <tbody>\n",
              "    <tr>\n",
              "      <th>temp</th>\n",
              "      <td>1.000000</td>\n",
              "      <td>0.991702</td>\n",
              "      <td>0.126963</td>\n",
              "      <td>-0.157944</td>\n",
              "      <td>0.543285</td>\n",
              "      <td>0.540012</td>\n",
              "      <td>0.627494</td>\n",
              "    </tr>\n",
              "    <tr>\n",
              "      <th>apparent_temp</th>\n",
              "      <td>0.991702</td>\n",
              "      <td>1.000000</td>\n",
              "      <td>0.139988</td>\n",
              "      <td>-0.183643</td>\n",
              "      <td>0.543864</td>\n",
              "      <td>0.544192</td>\n",
              "      <td>0.631066</td>\n",
              "    </tr>\n",
              "    <tr>\n",
              "      <th>humidity</th>\n",
              "      <td>0.126963</td>\n",
              "      <td>0.139988</td>\n",
              "      <td>1.000000</td>\n",
              "      <td>-0.248489</td>\n",
              "      <td>-0.077008</td>\n",
              "      <td>-0.091089</td>\n",
              "      <td>-0.100659</td>\n",
              "    </tr>\n",
              "    <tr>\n",
              "      <th>windspeed</th>\n",
              "      <td>-0.157944</td>\n",
              "      <td>-0.183643</td>\n",
              "      <td>-0.248489</td>\n",
              "      <td>1.000000</td>\n",
              "      <td>-0.167613</td>\n",
              "      <td>-0.217449</td>\n",
              "      <td>-0.234545</td>\n",
              "    </tr>\n",
              "    <tr>\n",
              "      <th>casual</th>\n",
              "      <td>0.543285</td>\n",
              "      <td>0.543864</td>\n",
              "      <td>-0.077008</td>\n",
              "      <td>-0.167613</td>\n",
              "      <td>1.000000</td>\n",
              "      <td>0.395282</td>\n",
              "      <td>0.672804</td>\n",
              "    </tr>\n",
              "    <tr>\n",
              "      <th>registered</th>\n",
              "      <td>0.540012</td>\n",
              "      <td>0.544192</td>\n",
              "      <td>-0.091089</td>\n",
              "      <td>-0.217449</td>\n",
              "      <td>0.395282</td>\n",
              "      <td>1.000000</td>\n",
              "      <td>0.945517</td>\n",
              "    </tr>\n",
              "    <tr>\n",
              "      <th>count</th>\n",
              "      <td>0.627494</td>\n",
              "      <td>0.631066</td>\n",
              "      <td>-0.100659</td>\n",
              "      <td>-0.234545</td>\n",
              "      <td>0.672804</td>\n",
              "      <td>0.945517</td>\n",
              "      <td>1.000000</td>\n",
              "    </tr>\n",
              "  </tbody>\n",
              "</table>\n",
              "</div>"
            ],
            "text/plain": [
              "                   temp  apparent_temp  ...  registered     count\n",
              "temp           1.000000       0.991702  ...    0.540012  0.627494\n",
              "apparent_temp  0.991702       1.000000  ...    0.544192  0.631066\n",
              "humidity       0.126963       0.139988  ...   -0.091089 -0.100659\n",
              "windspeed     -0.157944      -0.183643  ...   -0.217449 -0.234545\n",
              "casual         0.543285       0.543864  ...    0.395282  0.672804\n",
              "registered     0.540012       0.544192  ...    1.000000  0.945517\n",
              "count          0.627494       0.631066  ...    0.945517  1.000000\n",
              "\n",
              "[7 rows x 7 columns]"
            ]
          },
          "metadata": {
            "tags": []
          },
          "execution_count": 352
        }
      ]
    },
    {
      "cell_type": "code",
      "metadata": {
        "id": "X42Gxqy-LeaM",
        "outputId": "4beeb210-bac4-42e9-d834-f36fb886984b",
        "colab": {
          "base_uri": "https://localhost:8080/",
          "height": 276
        }
      },
      "source": [
        "x = df_copy.drop(['count', 'season', 'weather_condition', 'humidity', 'windspeed'], axis=1)\n",
        "print(x)\n"
      ],
      "execution_count": null,
      "outputs": [
        {
          "output_type": "stream",
          "text": [
            "     apparent_temp\n",
            "0         0.363625\n",
            "1         0.353739\n",
            "2         0.189405\n",
            "3         0.212122\n",
            "4         0.229270\n",
            "..             ...\n",
            "726       0.226642\n",
            "727       0.255046\n",
            "728       0.242400\n",
            "729       0.231700\n",
            "730       0.223487\n",
            "\n",
            "[731 rows x 1 columns]\n"
          ],
          "name": "stdout"
        }
      ]
    },
    {
      "cell_type": "code",
      "metadata": {
        "id": "AgXNn1uyLhxz"
      },
      "source": [
        "x_train, x_test, y_train, y_test = train_test_split(x, y, test_size = 0.3, \n",
        "                                                    random_state = 10)"
      ],
      "execution_count": null,
      "outputs": []
    },
    {
      "cell_type": "code",
      "metadata": {
        "id": "SsronburowSu",
        "outputId": "ca908975-e3ad-4e06-a85c-b5807e182e63",
        "colab": {
          "base_uri": "https://localhost:8080/",
          "height": 376
        }
      },
      "source": [
        "from math import log\n",
        "#Linear Regression\n",
        "\n",
        "def calculate_aic(n, mse, num_param):\n",
        "  aic = n * log(mse) + 2 * num_param\n",
        "  return aic \n",
        "\n",
        "def calculate_bic(n, mse, num_param):\n",
        "  bic = n * log(mse) + num_param * log(n)\n",
        "  return bic \n",
        "\n",
        "linearRegressor = LinearRegression()\n",
        "linearRegressor.fit(x_train, y_train)\n",
        "y_predicted = linearRegressor.predict(x_test)\n",
        "\n",
        "mse = mean_squared_error(y_test, y_predicted)\n",
        "r = r2_score(y_test, y_predicted)\n",
        "mae = mean_absolute_error(y_test, y_predicted)\n",
        "\n",
        "print(\"Mean Squared Error: \", mse)\n",
        "print(\"R score: \", r)\n",
        "print(\"Mean Absolute Error: \", mae)\n",
        "\n",
        "\n",
        "plt.scatter(y_test, y_predicted)\n",
        "plt.show()\n",
        "\n",
        "num_param = len(linearRegressor.coef_)+1\n",
        "print('Number of parameters: %d' % (num_param))\n",
        "\n",
        "aic = calculate_aic(len(y), mse, num_param)\n",
        "print('AIC: %.3f' % aic)\n",
        "\n",
        "bic = calculate_bic(len(y), mse, num_param)\n",
        "print('BIC: %.3f' %bic)\n"
      ],
      "execution_count": null,
      "outputs": [
        {
          "output_type": "stream",
          "text": [
            "Mean Squared Error:  2240685.7683478543\n",
            "R score:  0.4063904802238588\n",
            "Mean Absolute Error:  1177.882345734005\n"
          ],
          "name": "stdout"
        },
        {
          "output_type": "display_data",
          "data": {
            "image/png": "[encoded data removed]",
            "text/plain": [
              "<Figure size 432x288 with 1 Axes>"
            ]
          },
          "metadata": {
            "tags": [],
            "needs_background": "light"
          }
        },
        {
          "output_type": "stream",
          "text": [
            "Number of parameters: 2\n",
            "AIC: 10692.896\n",
            "BIC: 10702.085\n"
          ],
          "name": "stdout"
        }
      ]
    },
    {
      "cell_type": "code",
      "metadata": {
        "id": "bfFmo3u5Di3o",
        "outputId": "75e6997e-11da-4742-c5dc-06ae9771a440",
        "colab": {
          "base_uri": "https://localhost:8080/",
          "height": 72
        }
      },
      "source": [
        "#Polynomial Regression\n",
        "polynomial_features = PolynomialFeatures(degree=4)\n",
        "\n",
        "x_poly = polynomial_features.fit_transform(x_train)\n",
        "x_poly_test = polynomial_features.fit_transform(x_test)\n",
        "\n",
        "model = LinearRegression()\n",
        "model.fit(x_poly, y_train)\n",
        "\n",
        "y_predicted_poly = model.predict(x_poly_test)\n",
        "\n",
        "poly_mse= mean_squared_error(y_test, y_predicted_poly)\n",
        "poly_r = r2_score(y_test, y_predicted_poly)\n",
        "poly_mae = mean_absolute_error(y_test, y_predicted_poly)\n",
        "\n",
        "print(\"Mean Squared Error: \", poly_mse)\n",
        "print(\"R score: \", poly_r)\n",
        "print(\"Mean Absolute Error: \", poly_mae)\n"
      ],
      "execution_count": null,
      "outputs": [
        {
          "output_type": "stream",
          "text": [
            "Mean Squared Error:  2049384.4021801038\n",
            "R score:  0.4570706397123038\n",
            "Mean Absolute Error:  1136.2535308360916\n"
          ],
          "name": "stdout"
        }
      ]
    },
    {
      "cell_type": "code",
      "metadata": {
        "id": "RHj7KD4aLlca",
        "outputId": "6ec19982-8657-4af3-f115-7ba8af239047",
        "colab": {
          "base_uri": "https://localhost:8080/",
          "height": 184
        }
      },
      "source": [
        "table = PrettyTable()\n",
        "\n",
        "table.field_names = [\"Model\", \"Mean Squared Error\", \"R_2 Score\", \"Mean Absolute Error\", \"AIC\",\n",
        "                     \"BIC\"]\n",
        "\n",
        "models = [\n",
        "          LinearRegression(),\n",
        "          SVR(kernel='rbf'),\n",
        "          SVR(kernel='linear'),\n",
        "          SVR(kernel='poly'),\n",
        "          Lasso(alpha=0.1),\n",
        "]\n",
        "\n",
        "for model in models:\n",
        "  model.fit(x_train, y_train)\n",
        "  y_res = model.predict(x_test)\n",
        "  mse = mean_squared_error(y_test, y_res)\n",
        "  score = r2_score(y_test, y_res)\n",
        "  mae = mean_absolute_error(y_test, y_res)\n",
        "  aic = calculate_aic(len(y), mse, num_param)\n",
        "  bic = calculate_bic(len(y), mse, num_param)\n",
        "  \n",
        "  table.add_row([type(model).__name__, format(mse, '.2f'),\n",
        "                 format(score, '.2f'), format(mae, '.2f'),\n",
        "                 format(aic, '.2f'), format(bic, '.2f')])\n",
        "  \n",
        "print(table)"
      ],
      "execution_count": null,
      "outputs": [
        {
          "output_type": "stream",
          "text": [
            "+------------------+--------------------+-----------+---------------------+----------+----------+\n",
            "|      Model       | Mean Squared Error | R_2 Score | Mean Absolute Error |   AIC    |   BIC    |\n",
            "+------------------+--------------------+-----------+---------------------+----------+----------+\n",
            "| LinearRegression |     2240685.77     |    0.41   |       1177.88       | 10692.90 | 10702.08 |\n",
            "|       SVR        |     3581223.38     |    0.05   |       1514.03       | 11035.68 | 11044.87 |\n",
            "|       SVR        |     3757758.70     |    0.00   |       1557.22       | 11070.85 | 11080.04 |\n",
            "|       SVR        |     2652427.60     |    0.30   |       1291.85       | 10816.21 | 10825.40 |\n",
            "|      Lasso       |     2240601.36     |    0.41   |       1177.87       | 10692.87 | 10702.06 |\n",
            "+------------------+--------------------+-----------+---------------------+----------+----------+\n"
          ],
          "name": "stdout"
        }
      ]
    },
    {
      "cell_type": "code",
      "metadata": {
        "id": "M8jH4fpgoN3T",
        "outputId": "3c9f6d33-dd5d-4fe6-8e4b-87b8f193fc95",
        "colab": {
          "base_uri": "https://localhost:8080/",
          "height": 411
        }
      },
      "source": [
        "df_copy"
      ],
      "execution_count": null,
      "outputs": [
        {
          "output_type": "execute_result",
          "data": {
            "text/html": [
              "<div>\n",
              "<style scoped>\n",
              "    .dataframe tbody tr th:only-of-type {\n",
              "        vertical-align: middle;\n",
              "    }\n",
              "\n",
              "    .dataframe tbody tr th {\n",
              "        vertical-align: top;\n",
              "    }\n",
              "\n",
              "    .dataframe thead th {\n",
              "        text-align: right;\n",
              "    }\n",
              "</style>\n",
              "<table border=\"1\" class=\"dataframe\">\n",
              "  <thead>\n",
              "    <tr style=\"text-align: right;\">\n",
              "      <th></th>\n",
              "      <th>season</th>\n",
              "      <th>weather_condition</th>\n",
              "      <th>apparent_temp</th>\n",
              "      <th>humidity</th>\n",
              "      <th>windspeed</th>\n",
              "      <th>count</th>\n",
              "    </tr>\n",
              "  </thead>\n",
              "  <tbody>\n",
              "    <tr>\n",
              "      <th>0</th>\n",
              "      <td>1</td>\n",
              "      <td>2</td>\n",
              "      <td>0.363625</td>\n",
              "      <td>0.805833</td>\n",
              "      <td>0.160446</td>\n",
              "      <td>985</td>\n",
              "    </tr>\n",
              "    <tr>\n",
              "      <th>1</th>\n",
              "      <td>1</td>\n",
              "      <td>2</td>\n",
              "      <td>0.353739</td>\n",
              "      <td>0.696087</td>\n",
              "      <td>0.248539</td>\n",
              "      <td>801</td>\n",
              "    </tr>\n",
              "    <tr>\n",
              "      <th>2</th>\n",
              "      <td>1</td>\n",
              "      <td>1</td>\n",
              "      <td>0.189405</td>\n",
              "      <td>0.437273</td>\n",
              "      <td>0.248309</td>\n",
              "      <td>1349</td>\n",
              "    </tr>\n",
              "    <tr>\n",
              "      <th>3</th>\n",
              "      <td>1</td>\n",
              "      <td>1</td>\n",
              "      <td>0.212122</td>\n",
              "      <td>0.590435</td>\n",
              "      <td>0.160296</td>\n",
              "      <td>1562</td>\n",
              "    </tr>\n",
              "    <tr>\n",
              "      <th>4</th>\n",
              "      <td>1</td>\n",
              "      <td>1</td>\n",
              "      <td>0.229270</td>\n",
              "      <td>0.436957</td>\n",
              "      <td>0.186900</td>\n",
              "      <td>1600</td>\n",
              "    </tr>\n",
              "    <tr>\n",
              "      <th>...</th>\n",
              "      <td>...</td>\n",
              "      <td>...</td>\n",
              "      <td>...</td>\n",
              "      <td>...</td>\n",
              "      <td>...</td>\n",
              "      <td>...</td>\n",
              "    </tr>\n",
              "    <tr>\n",
              "      <th>726</th>\n",
              "      <td>1</td>\n",
              "      <td>2</td>\n",
              "      <td>0.226642</td>\n",
              "      <td>0.652917</td>\n",
              "      <td>0.350133</td>\n",
              "      <td>2114</td>\n",
              "    </tr>\n",
              "    <tr>\n",
              "      <th>727</th>\n",
              "      <td>1</td>\n",
              "      <td>2</td>\n",
              "      <td>0.255046</td>\n",
              "      <td>0.590000</td>\n",
              "      <td>0.155471</td>\n",
              "      <td>3095</td>\n",
              "    </tr>\n",
              "    <tr>\n",
              "      <th>728</th>\n",
              "      <td>1</td>\n",
              "      <td>2</td>\n",
              "      <td>0.242400</td>\n",
              "      <td>0.752917</td>\n",
              "      <td>0.124383</td>\n",
              "      <td>1341</td>\n",
              "    </tr>\n",
              "    <tr>\n",
              "      <th>729</th>\n",
              "      <td>1</td>\n",
              "      <td>1</td>\n",
              "      <td>0.231700</td>\n",
              "      <td>0.483333</td>\n",
              "      <td>0.350754</td>\n",
              "      <td>1796</td>\n",
              "    </tr>\n",
              "    <tr>\n",
              "      <th>730</th>\n",
              "      <td>1</td>\n",
              "      <td>2</td>\n",
              "      <td>0.223487</td>\n",
              "      <td>0.577500</td>\n",
              "      <td>0.154846</td>\n",
              "      <td>2729</td>\n",
              "    </tr>\n",
              "  </tbody>\n",
              "</table>\n",
              "<p>731 rows × 6 columns</p>\n",
              "</div>"
            ],
            "text/plain": [
              "    season weather_condition  apparent_temp  humidity  windspeed  count\n",
              "0        1                 2       0.363625  0.805833   0.160446    985\n",
              "1        1                 2       0.353739  0.696087   0.248539    801\n",
              "2        1                 1       0.189405  0.437273   0.248309   1349\n",
              "3        1                 1       0.212122  0.590435   0.160296   1562\n",
              "4        1                 1       0.229270  0.436957   0.186900   1600\n",
              "..     ...               ...            ...       ...        ...    ...\n",
              "726      1                 2       0.226642  0.652917   0.350133   2114\n",
              "727      1                 2       0.255046  0.590000   0.155471   3095\n",
              "728      1                 2       0.242400  0.752917   0.124383   1341\n",
              "729      1                 1       0.231700  0.483333   0.350754   1796\n",
              "730      1                 2       0.223487  0.577500   0.154846   2729\n",
              "\n",
              "[731 rows x 6 columns]"
            ]
          },
          "metadata": {
            "tags": []
          },
          "execution_count": 324
        }
      ]
    },
    {
      "cell_type": "code",
      "metadata": {
        "id": "SgUfYi60oWvA",
        "outputId": "cb36a0e6-75dd-449e-d0c3-d18a7006648d",
        "colab": {
          "base_uri": "https://localhost:8080/",
          "height": 276
        }
      },
      "source": [
        "x = df_copy.drop(['count', 'season', 'weather_condition', 'apparent_temp', 'windspeed'], axis=1)\n",
        "print(x)"
      ],
      "execution_count": null,
      "outputs": [
        {
          "output_type": "stream",
          "text": [
            "     humidity\n",
            "0    0.805833\n",
            "1    0.696087\n",
            "2    0.437273\n",
            "3    0.590435\n",
            "4    0.436957\n",
            "..        ...\n",
            "726  0.652917\n",
            "727  0.590000\n",
            "728  0.752917\n",
            "729  0.483333\n",
            "730  0.577500\n",
            "\n",
            "[731 rows x 1 columns]\n"
          ],
          "name": "stdout"
        }
      ]
    },
    {
      "cell_type": "code",
      "metadata": {
        "id": "3PxQo9utoirj"
      },
      "source": [
        "x_train, x_test, y_train, y_test = train_test_split(x, y, test_size = 0.3, \n",
        "                                                    random_state = 10)"
      ],
      "execution_count": null,
      "outputs": []
    },
    {
      "cell_type": "code",
      "metadata": {
        "id": "GEO42t1komJO",
        "outputId": "8f5519f5-87a3-434f-e658-3559c3e2b4b4",
        "colab": {
          "base_uri": "https://localhost:8080/",
          "height": 376
        }
      },
      "source": [
        "#Linear Regression\n",
        "\n",
        "def calculate_aic(n, mse, num_param):\n",
        "  aic = n * log(mse) + 2 * num_param\n",
        "  return aic \n",
        "\n",
        "def calculate_bic(n, mse, num_param):\n",
        "  bic = n * log(mse) + num_param * log(n)\n",
        "  return bic \n",
        "\n",
        "linearRegressor = LinearRegression()\n",
        "linearRegressor.fit(x_train, y_train)\n",
        "y_predicted = linearRegressor.predict(x_test)\n",
        "\n",
        "mse = mean_squared_error(y_test, y_predicted)\n",
        "r = r2_score(y_test, y_predicted)\n",
        "mae = mean_absolute_error(y_test, y_predicted)\n",
        "\n",
        "print(\"Mean Squared Error: \", mse)\n",
        "print(\"R score: \", r)\n",
        "print(\"Mean Absolute Error: \", mae)\n",
        "\n",
        "plt.scatter(y_test, y_predicted)\n",
        "plt.show()\n",
        "\n",
        "\n",
        "num_param = len(linearRegressor.coef_)+1\n",
        "print('Number of parameters: %d' % (num_param))\n",
        "\n",
        "aic = calculate_aic(len(y), mse, num_param)\n",
        "print('AIC: %.3f' % aic)\n",
        "\n",
        "bic = calculate_bic(len(y), mse, num_param)\n",
        "print('BIC: %.3f' %bic)\n"
      ],
      "execution_count": null,
      "outputs": [
        {
          "output_type": "stream",
          "text": [
            "Mean Squared Error:  3757852.715232217\n",
            "R score:  0.004457841795797335\n",
            "Mean Absolute Error:  1544.1296315710122\n"
          ],
          "name": "stdout"
        },
        {
          "output_type": "display_data",
          "data": {
            "image/png": "[encoded data removed]",
            "text/plain": [
              "<Figure size 432x288 with 1 Axes>"
            ]
          },
          "metadata": {
            "tags": [],
            "needs_background": "light"
          }
        },
        {
          "output_type": "stream",
          "text": [
            "Number of parameters: 2\n",
            "AIC: 11070.871\n",
            "BIC: 11080.060\n"
          ],
          "name": "stdout"
        }
      ]
    },
    {
      "cell_type": "code",
      "metadata": {
        "id": "YFtpK10-YdgZ",
        "outputId": "d9e8a30c-6db2-42fb-e403-1b64f4eacf3e",
        "colab": {
          "base_uri": "https://localhost:8080/",
          "height": 184
        }
      },
      "source": [
        "table = PrettyTable()\n",
        "\n",
        "table.field_names = [\"Model\", \"Mean Squared Error\", \"R_2 Score\", \"Mean Absolute Error\", \"AIC\",\n",
        "                     \"BIC\"]\n",
        "\n",
        "models = [\n",
        "          LinearRegression(),\n",
        "          SVR(kernel='rbf'),\n",
        "          SVR(kernel='linear'),\n",
        "          SVR(kernel='poly'),\n",
        "          Lasso(alpha=0.1)\n",
        "]\n",
        "\n",
        "for model in models:\n",
        "  model.fit(x_train, y_train)\n",
        "  y_res = model.predict(x_test)\n",
        "  mse = mean_squared_error(y_test, y_res)\n",
        "  score = r2_score(y_test, y_res)\n",
        "  mae = mean_absolute_error(y_test, y_res)\n",
        "  aic = calculate_aic(len(y), mse, num_param)\n",
        "  bic = calculate_bic(len(y), mse, num_param)\n",
        "  \n",
        "  table.add_row([type(model).__name__, format(mse, '.2f'),\n",
        "                 format(score, '.2f'), format(mae, '.2f'),\n",
        "                 format(aic, '.2f'), format(bic, '.2f')])\n",
        "  \n",
        "\n",
        "print(table)"
      ],
      "execution_count": null,
      "outputs": [
        {
          "output_type": "stream",
          "text": [
            "+------------------+--------------------+-----------+---------------------+----------+----------+\n",
            "|      Model       | Mean Squared Error | R_2 Score | Mean Absolute Error |   AIC    |   BIC    |\n",
            "+------------------+--------------------+-----------+---------------------+----------+----------+\n",
            "| LinearRegression |     3757852.72     |    0.00   |       1544.13       | 11070.87 | 11080.06 |\n",
            "|       SVR        |     3758187.87     |    0.00   |       1557.00       | 11070.94 | 11080.12 |\n",
            "|       SVR        |     3775069.74     |   -0.00   |       1561.19       | 11074.21 | 11083.40 |\n",
            "|       SVR        |     3677224.53     |    0.03   |       1523.40       | 11055.02 | 11064.20 |\n",
            "|      Lasso       |     3757764.75     |    0.00   |       1544.15       | 11070.85 | 11080.04 |\n",
            "+------------------+--------------------+-----------+---------------------+----------+----------+\n"
          ],
          "name": "stdout"
        }
      ]
    },
    {
      "cell_type": "code",
      "metadata": {
        "id": "Pnuz6Tafoql1",
        "outputId": "ec74cdd9-cdda-44d6-c0f1-b5fd4c4b65ac",
        "colab": {
          "base_uri": "https://localhost:8080/",
          "height": 276
        }
      },
      "source": [
        "x = df_copy.drop(['count', 'season', 'weather_condition', 'apparent_temp', 'humidity'], axis=1)\n",
        "print(x)"
      ],
      "execution_count": null,
      "outputs": [
        {
          "output_type": "stream",
          "text": [
            "     windspeed\n",
            "0     0.160446\n",
            "1     0.248539\n",
            "2     0.248309\n",
            "3     0.160296\n",
            "4     0.186900\n",
            "..         ...\n",
            "726   0.350133\n",
            "727   0.155471\n",
            "728   0.124383\n",
            "729   0.350754\n",
            "730   0.154846\n",
            "\n",
            "[731 rows x 1 columns]\n"
          ],
          "name": "stdout"
        }
      ]
    },
    {
      "cell_type": "code",
      "metadata": {
        "id": "B1uLH7GiotA6"
      },
      "source": [
        "x_train, x_test, y_train, y_test = train_test_split(x, y, test_size = 0.3, \n",
        "                                                    random_state = 10)"
      ],
      "execution_count": null,
      "outputs": []
    },
    {
      "cell_type": "code",
      "metadata": {
        "id": "pQl_PfmFSOF3",
        "outputId": "ddd76612-2cbc-45bd-e4aa-6c9570a43e5c",
        "colab": {
          "base_uri": "https://localhost:8080/",
          "height": 376
        }
      },
      "source": [
        "#Linear Regression\n",
        "\n",
        "def calculate_aic(n, mse, num_param):\n",
        "  aic = n * log(mse) + 2 * num_param\n",
        "  return aic \n",
        "\n",
        "def calculate_bic(n, mse, num_param):\n",
        "  bic = n * log(mse) + num_param * log(n)\n",
        "  return bic \n",
        "\n",
        "\n",
        "linearRegressor = LinearRegression()\n",
        "linearRegressor.fit(x_train, y_train)\n",
        "y_predicted = linearRegressor.predict(x_test)\n",
        "\n",
        "mse = mean_squared_error(y_test, y_predicted)\n",
        "r = r2_score(y_test, y_predicted)\n",
        "mae = mean_absolute_error(y_test, y_predicted)\n",
        "\n",
        "print(\"Mean Squared Error: \", mse)\n",
        "print(\"R score: \", r)\n",
        "print(\"Mean Absolute Error: \", mae)\n",
        "\n",
        "plt.scatter(y_test, y_predicted)\n",
        "plt.show()\n",
        "\n",
        "\n",
        "num_param = len(linearRegressor.coef_)+1\n",
        "print('Number of parameters: %d' % (num_param))\n",
        "\n",
        "aic = calculate_aic(len(y), mse, num_param)\n",
        "print('AIC: %.3f' % aic)\n",
        "\n",
        "bic = calculate_bic(len(y), mse, num_param)\n",
        "print('BIC: %.3f' %bic)\n"
      ],
      "execution_count": null,
      "outputs": [
        {
          "output_type": "stream",
          "text": [
            "Mean Squared Error:  3496968.0906094387\n",
            "R score:  0.07357221692457472\n",
            "Mean Absolute Error:  1509.337371748546\n"
          ],
          "name": "stdout"
        },
        {
          "output_type": "display_data",
          "data": {
            "image/png": "[encoded data removed]",
            "text/plain": [
              "<Figure size 432x288 with 1 Axes>"
            ]
          },
          "metadata": {
            "tags": [],
            "needs_background": "light"
          }
        },
        {
          "output_type": "stream",
          "text": [
            "Number of parameters: 2\n",
            "AIC: 11018.274\n",
            "BIC: 11027.463\n"
          ],
          "name": "stdout"
        }
      ]
    },
    {
      "cell_type": "code",
      "metadata": {
        "id": "mhk1cwUnYnIe",
        "outputId": "3585e72c-f830-4dd6-e842-454448860449",
        "colab": {
          "base_uri": "https://localhost:8080/",
          "height": 184
        }
      },
      "source": [
        "table = PrettyTable()\n",
        "\n",
        "table.field_names = [\"Model\", \"Mean Squared Error\", \"R_2 Score\", \"Mean Absolute Error\", \"AIC\",\n",
        "                     \"BIC\"]\n",
        "\n",
        "models = [\n",
        "          LinearRegression(),\n",
        "          SVR(kernel='rbf'),\n",
        "          SVR(kernel='linear'),\n",
        "          SVR(kernel='poly'),\n",
        "          Lasso(alpha=0.1)\n",
        "]\n",
        "\n",
        "for model in models:\n",
        "  model.fit(x_train, y_train)\n",
        "  y_res = model.predict(x_test)\n",
        "  mse = mean_squared_error(y_test, y_res)\n",
        "  score = r2_score(y_test, y_res)\n",
        "  mae = mean_absolute_error(y_test, y_res)\n",
        "  aic = calculate_aic(len(y), mse, num_param)\n",
        "  bic = calculate_bic(len(y), mse, num_param)\n",
        "  \n",
        "  table.add_row([type(model).__name__, format(mse, '.2f'),\n",
        "                 format(score, '.2f'), format(mae, '.2f'),\n",
        "                 format(aic, '.2f'), format(bic, '.2f')])\n",
        "  \n",
        "print(table)"
      ],
      "execution_count": null,
      "outputs": [
        {
          "output_type": "stream",
          "text": [
            "+------------------+--------------------+-----------+---------------------+----------+----------+\n",
            "|      Model       | Mean Squared Error | R_2 Score | Mean Absolute Error |   AIC    |   BIC    |\n",
            "+------------------+--------------------+-----------+---------------------+----------+----------+\n",
            "| LinearRegression |     3496968.09     |    0.07   |       1509.34       | 11018.27 | 11027.46 |\n",
            "|       SVR        |     3754036.77     |    0.01   |       1555.56       | 11070.13 | 11079.32 |\n",
            "|       SVR        |     3774731.85     |   -0.00   |       1561.10       | 11074.15 | 11083.34 |\n",
            "|       SVR        |     3510910.16     |    0.07   |       1512.93       | 11021.18 | 11030.37 |\n",
            "|      Lasso       |     3497363.48     |    0.07   |       1509.38       | 11018.36 | 11027.55 |\n",
            "+------------------+--------------------+-----------+---------------------+----------+----------+\n"
          ],
          "name": "stdout"
        }
      ]
    }
  ]
}